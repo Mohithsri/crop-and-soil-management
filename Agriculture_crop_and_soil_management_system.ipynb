{
  "nbformat": 4,
  "nbformat_minor": 0,
  "metadata": {
    "colab": {
      "provenance": [],
      "authorship_tag": "ABX9TyOzuCWFRVkWu9KGpTDoLJqs",
      "include_colab_link": true
    },
    "kernelspec": {
      "name": "python3",
      "display_name": "Python 3"
    },
    "language_info": {
      "name": "python"
    }
  },
  "cells": [
    {
      "cell_type": "markdown",
      "metadata": {
        "id": "view-in-github",
        "colab_type": "text"
      },
      "source": [
        "<a href=\"https://colab.research.google.com/github/Mohithsri/crop-and-soil-management/blob/main/Agriculture_crop_and_soil_management_system.ipynb\" target=\"_parent\"><img src=\"https://colab.research.google.com/assets/colab-badge.svg\" alt=\"Open In Colab\"/></a>"
      ]
    },
    {
      "cell_type": "code",
      "execution_count": 3,
      "metadata": {
        "colab": {
          "base_uri": "https://localhost:8080/"
        },
        "id": "M9IU0b8xa3wp",
        "outputId": "e64c6826-a938-4221-bc1c-2bd3bef8247c"
      },
      "outputs": [
        {
          "output_type": "stream",
          "name": "stdout",
          "text": [
            "Welcome to the Crop and Soil Management System\n",
            "Enter soil pH (e.g., 6.5): 5.5\n",
            "Enter soil moisture percentage (e.g., 45): 50\n",
            "Enter soil nutrient level (e.g., 60): 45\n",
            "Enter leaf color (green/yellow/brown): green\n",
            "Enter leaf shape (normal/wilted): normal\n",
            "Are there spots on the leaves? (yes/no): yes\n",
            "\n",
            "--- Analysis Results ---\n",
            "Crop Recommendation: Recommend growing: Corn, Wheat, Soybeans\n",
            "Soil Moisture Status: Moisture level is optimal.\n",
            "Soil Nutrient Status: Low nutrients, recommend fertilization.\n",
            "Disease Identification: Disease not identified, consult a specialist.\n",
            "-----------------------\n"
          ]
        }
      ],
      "source": [
        "# Crop Recommendation Based on Soil pH\n",
        "def recommend_crop(soil_ph):\n",
        "    if soil_ph < 5.5:\n",
        "        return \"Recommend growing: Sweet Potatoes, Peanuts\"\n",
        "    elif 5.5 <= soil_ph <= 7.0:\n",
        "        return \"Recommend growing: Corn, Wheat, Soybeans\"\n",
        "    elif 7.0 < soil_ph <= 8.5:\n",
        "        return \"Recommend growing: Barley, Oats, Alfalfa\"\n",
        "    else:\n",
        "        return \"Soil pH too high, consider pH balancing treatments.\"\n",
        "\n",
        "# Soil Health Monitoring\n",
        "def soil_health_check(soil_moisture, soil_nutrients):\n",
        "    if soil_moisture < 30:\n",
        "        moisture_status = \"Low moisture, recommend irrigation.\"\n",
        "    elif 30 <= soil_moisture <= 70:\n",
        "        moisture_status = \"Moisture level is optimal.\"\n",
        "    else:\n",
        "        moisture_status = \"High moisture, risk of waterlogging.\"\n",
        "\n",
        "    if soil_nutrients < 50:\n",
        "        nutrient_status = \"Low nutrients, recommend fertilization.\"\n",
        "    else:\n",
        "        nutrient_status = \"Nutrient level is optimal.\"\n",
        "\n",
        "    return moisture_status, nutrient_status\n",
        "\n",
        "# Simple Disease Identification\n",
        "def identify_disease(leaf_color, leaf_shape, spots_present):\n",
        "    if leaf_color == \"yellow\" and spots_present:\n",
        "        return \"Possible disease: Bacterial Leaf Spot\"\n",
        "    elif leaf_color == \"brown\" and leaf_shape == \"wilted\":\n",
        "        return \"Possible disease: Fusarium Wilt\"\n",
        "    else:\n",
        "        return \"Disease not identified, consult a specialist.\"\n",
        "\n",
        "# Main Function to Integrate All Components\n",
        "def crop_and_soil_management():\n",
        "    print(\"Welcome to the Crop and Soil Management System\")\n",
        "\n",
        "    # Get soil data from the user\n",
        "    soil_ph = float(input(\"Enter soil pH (e.g., 6.5): \"))\n",
        "    soil_moisture = int(input(\"Enter soil moisture percentage (e.g., 45): \"))\n",
        "    soil_nutrients = int(input(\"Enter soil nutrient level (e.g., 60): \"))\n",
        "\n",
        "    # Get crop health data from the user\n",
        "    leaf_color = input(\"Enter leaf color (green/yellow/brown): \").lower()\n",
        "    leaf_shape = input(\"Enter leaf shape (normal/wilted): \").lower()\n",
        "    spots_present = input(\"Are there spots on the leaves? (yes/no): \").lower() == 'yes'\n",
        "\n",
        "    # Perform Crop Recommendation\n",
        "    crop_recommendation = recommend_crop(soil_ph)\n",
        "\n",
        "    # Perform Soil Health Check\n",
        "    moisture_status, nutrient_status = soil_health_check(soil_moisture, soil_nutrients)\n",
        "\n",
        "    # Perform Disease Identification\n",
        "    disease_status = identify_disease(leaf_color, leaf_shape, spots_present)\n",
        "\n",
        "    # Output Results\n",
        "    print(\"\\n--- Analysis Results ---\")\n",
        "    print(f\"Crop Recommendation: {crop_recommendation}\")\n",
        "    print(f\"Soil Moisture Status: {moisture_status}\")\n",
        "    print(f\"Soil Nutrient Status: {nutrient_status}\")\n",
        "    print(f\"Disease Identification: {disease_status}\")\n",
        "    print(\"-----------------------\")\n",
        "\n",
        "# Run the System\n",
        "crop_and_soil_management()\n"
      ]
    }
  ]
}